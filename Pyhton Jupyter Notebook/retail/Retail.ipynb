{
 "cells": [
  {
   "cell_type": "code",
   "execution_count": 1,
   "metadata": {},
   "outputs": [],
   "source": [
    "import pandas as pd \n",
    "import matplotlib.pyplot as plt"
   ]
  },
  {
   "cell_type": "markdown",
   "metadata": {},
   "source": [
    "Show Data info"
   ]
  },
  {
   "cell_type": "code",
   "execution_count": 2,
   "metadata": {},
   "outputs": [
    {
     "name": "stdout",
     "output_type": "stream",
     "text": [
      "  InvoiceNo StockCode                          Description  Quantity  \\\n",
      "0    536365    85123A   WHITE HANGING HEART T-LIGHT HOLDER         6   \n",
      "1    536365     71053                  WHITE METAL LANTERN         6   \n",
      "2    536365    84406B       CREAM CUPID HEARTS COAT HANGER         8   \n",
      "3    536365    84029G  KNITTED UNION FLAG HOT WATER BOTTLE         6   \n",
      "4    536365    84029E       RED WOOLLY HOTTIE WHITE HEART.         6   \n",
      "\n",
      "      InvoiceDate  UnitPrice  CustomerID         Country  \n",
      "0  12/1/2010 8:26       2.55     17850.0  United Kingdom  \n",
      "1  12/1/2010 8:26       3.39     17850.0  United Kingdom  \n",
      "2  12/1/2010 8:26       2.75     17850.0  United Kingdom  \n",
      "3  12/1/2010 8:26       3.39     17850.0  United Kingdom  \n",
      "4  12/1/2010 8:26       3.39     17850.0  United Kingdom  \n",
      "<class 'pandas.core.frame.DataFrame'>\n",
      "RangeIndex: 541909 entries, 0 to 541908\n",
      "Data columns (total 8 columns):\n",
      " #   Column       Non-Null Count   Dtype  \n",
      "---  ------       --------------   -----  \n",
      " 0   InvoiceNo    541909 non-null  object \n",
      " 1   StockCode    541909 non-null  object \n",
      " 2   Description  540455 non-null  object \n",
      " 3   Quantity     541909 non-null  int64  \n",
      " 4   InvoiceDate  541909 non-null  object \n",
      " 5   UnitPrice    541909 non-null  float64\n",
      " 6   CustomerID   406829 non-null  float64\n",
      " 7   Country      541909 non-null  object \n",
      "dtypes: float64(2), int64(1), object(5)\n",
      "memory usage: 33.1+ MB\n",
      "None\n"
     ]
    }
   ],
   "source": [
    "df_v1 = pd.read_csv(\"Retail.csv\")\n",
    "print(df_v1.head())\n",
    "print(df_v1.info())"
   ]
  },
  {
   "cell_type": "markdown",
   "metadata": {},
   "source": [
    "Drop Untargeted Data (that may bias the model)"
   ]
  },
  {
   "cell_type": "code",
   "execution_count": 3,
   "metadata": {},
   "outputs": [
    {
     "name": "stdout",
     "output_type": "stream",
     "text": [
      "  StockCode  Quantity  UnitPrice  CustomerID\n",
      "0    85123A         6       2.55     17850.0\n",
      "1     71053         6       3.39     17850.0\n",
      "2    84406B         8       2.75     17850.0\n",
      "3    84029G         6       3.39     17850.0\n",
      "4    84029E         6       3.39     17850.0\n",
      "<class 'pandas.core.frame.DataFrame'>\n",
      "RangeIndex: 541909 entries, 0 to 541908\n",
      "Data columns (total 4 columns):\n",
      " #   Column      Non-Null Count   Dtype  \n",
      "---  ------      --------------   -----  \n",
      " 0   StockCode   541909 non-null  object \n",
      " 1   Quantity    541909 non-null  int64  \n",
      " 2   UnitPrice   541909 non-null  float64\n",
      " 3   CustomerID  406829 non-null  float64\n",
      "dtypes: float64(2), int64(1), object(1)\n",
      "memory usage: 16.5+ MB\n",
      "None\n"
     ]
    }
   ],
   "source": [
    "# df_v1[\"InvoiceDate\"] = pd.to_datetime(df_v1[\"InvoiceDate\"]).dt.date\n",
    "# df_v1[\"InvoiceDate\"] = pd.to_datetime(df_v1[\"InvoiceDate\"],format=\"%m/%d/%Y %H:%M\")\n",
    "df_v1.drop(columns=[\"Description\",\"InvoiceNo\",\"Country\",\"InvoiceDate\"],inplace=True)\n",
    "print(df_v1.head())\n",
    "print(df_v1.info())"
   ]
  },
  {
   "cell_type": "markdown",
   "metadata": {},
   "source": [
    "print some information to help in Cleanning"
   ]
  },
  {
   "cell_type": "code",
   "execution_count": 4,
   "metadata": {},
   "outputs": [
    {
     "name": "stdout",
     "output_type": "stream",
     "text": [
      "178625\n",
      "StockCode          0\n",
      "Quantity           0\n",
      "UnitPrice          0\n",
      "CustomerID    135080\n",
      "dtype: int64\n",
      "(541909, 4)\n",
      "24.926694334288598\n",
      "     StockCode  Quantity  UnitPrice  CustomerID\n",
      "622      22139        56       0.00         NaN\n",
      "1443     21773         1       2.51         NaN\n",
      "1444     21774         2       2.51         NaN\n",
      "1445     21786         4       0.85         NaN\n",
      "1446     21787         2       1.66         NaN\n",
      "1447     21790         9       1.66         NaN\n",
      "1448     21791         2       2.51         NaN\n",
      "1449     21801        10       0.43         NaN\n",
      "1450     21802         9       0.43         NaN\n",
      "1451     21803        11       0.43         NaN\n",
      "1452     21809         1       2.51         NaN\n",
      "1453     21810         3       2.51         NaN\n",
      "1454     21811         1       2.51         NaN\n",
      "1455     21821         1       7.62         NaN\n",
      "1456     21822         1       4.21         NaN\n",
      "1457     21823         2       2.98         NaN\n",
      "1458     21844         2       5.91         NaN\n",
      "1459     21851         1       4.21         NaN\n",
      "1460     21870         1       3.36         NaN\n",
      "1461     21871         5       3.36         NaN\n"
     ]
    }
   ],
   "source": [
    "print(df_v1.duplicated().sum())\n",
    "print(df_v1.isna().sum())\n",
    "print(df_v1.shape)\n",
    "print((df_v1.isna().sum().CustomerID/df_v1.shape[0])*100)\n",
    "print(df_v1[df_v1[\"CustomerID\"].isna() == True].head(20))"
   ]
  },
  {
   "cell_type": "markdown",
   "metadata": {},
   "source": [
    "Clean Data Stage 1"
   ]
  },
  {
   "cell_type": "code",
   "execution_count": 5,
   "metadata": {},
   "outputs": [
    {
     "name": "stdout",
     "output_type": "stream",
     "text": [
      "(406829, 4)\n",
      "0\n",
      "40\n"
     ]
    }
   ],
   "source": [
    "df_v1.drop_duplicates()\n",
    "df_v1.dropna(subset=\"CustomerID\",inplace=True)\n",
    "print(df_v1.shape)\n",
    "print(df_v1[df_v1[\"Quantity\"]== 0].value_counts().sum())\n",
    "print(df_v1[df_v1[\"UnitPrice\"]== 0].value_counts().sum())"
   ]
  },
  {
   "cell_type": "markdown",
   "metadata": {},
   "source": [
    "Clean Data Stage 2"
   ]
  },
  {
   "cell_type": "code",
   "execution_count": 6,
   "metadata": {},
   "outputs": [
    {
     "name": "stdout",
     "output_type": "stream",
     "text": [
      "<class 'pandas.core.frame.DataFrame'>\n",
      "Index: 406789 entries, 0 to 541908\n",
      "Data columns (total 3 columns):\n",
      " #   Column      Non-Null Count   Dtype \n",
      "---  ------      --------------   ----- \n",
      " 0   StockCode   406789 non-null  object\n",
      " 1   Quantity    406789 non-null  int64 \n",
      " 2   CustomerID  406789 non-null  object\n",
      "dtypes: int64(1), object(2)\n",
      "memory usage: 12.4+ MB\n",
      "None\n",
      "  StockCode  Quantity CustomerID\n",
      "0    85123A         6      17850\n",
      "1     71053         6      17850\n",
      "2    84406B         8      17850\n",
      "3    84029G         6      17850\n",
      "4    84029E         6      17850\n",
      "StockCode     3684\n",
      "Quantity       435\n",
      "CustomerID    4371\n",
      "dtype: int64\n"
     ]
    }
   ],
   "source": [
    "df_v1.drop(index=df_v1[df_v1[\"UnitPrice\"]== 0].index,inplace=True)\n",
    "df_v1[\"CustomerID\"] = df_v1[\"CustomerID\"].astype(\"int\").astype(\"str\")\n",
    "# df_v1[\"PaidForUnit\"] = df_v1[\"Quantity\"] * df_v1[\"UnitPrice\"]\n",
    "df_v1.drop(columns=\"UnitPrice\",inplace=True)\n",
    "print(df_v1.info())\n",
    "print(df_v1.head())\n",
    "print(df_v1.nunique())"
   ]
  },
  {
   "cell_type": "markdown",
   "metadata": {},
   "source": [
    "Encode Catigorical Data"
   ]
  },
  {
   "cell_type": "code",
   "execution_count": 7,
   "metadata": {},
   "outputs": [
    {
     "data": {
      "text/html": [
       "<div>\n",
       "<style scoped>\n",
       "    .dataframe tbody tr th:only-of-type {\n",
       "        vertical-align: middle;\n",
       "    }\n",
       "\n",
       "    .dataframe tbody tr th {\n",
       "        vertical-align: top;\n",
       "    }\n",
       "\n",
       "    .dataframe thead th {\n",
       "        text-align: right;\n",
       "    }\n",
       "</style>\n",
       "<table border=\"1\" class=\"dataframe\">\n",
       "  <thead>\n",
       "    <tr style=\"text-align: right;\">\n",
       "      <th></th>\n",
       "      <th>StockCode</th>\n",
       "      <th>Quantity</th>\n",
       "      <th>CustomerID</th>\n",
       "    </tr>\n",
       "  </thead>\n",
       "  <tbody>\n",
       "    <tr>\n",
       "      <th>0</th>\n",
       "      <td>3249</td>\n",
       "      <td>6</td>\n",
       "      <td>4047</td>\n",
       "    </tr>\n",
       "    <tr>\n",
       "      <th>1</th>\n",
       "      <td>2649</td>\n",
       "      <td>6</td>\n",
       "      <td>4047</td>\n",
       "    </tr>\n",
       "    <tr>\n",
       "      <th>2</th>\n",
       "      <td>2855</td>\n",
       "      <td>8</td>\n",
       "      <td>4047</td>\n",
       "    </tr>\n",
       "    <tr>\n",
       "      <th>3</th>\n",
       "      <td>2803</td>\n",
       "      <td>6</td>\n",
       "      <td>4047</td>\n",
       "    </tr>\n",
       "    <tr>\n",
       "      <th>4</th>\n",
       "      <td>2802</td>\n",
       "      <td>6</td>\n",
       "      <td>4047</td>\n",
       "    </tr>\n",
       "  </tbody>\n",
       "</table>\n",
       "</div>"
      ],
      "text/plain": [
       "   StockCode  Quantity  CustomerID\n",
       "0       3249         6        4047\n",
       "1       2649         6        4047\n",
       "2       2855         8        4047\n",
       "3       2803         6        4047\n",
       "4       2802         6        4047"
      ]
     },
     "execution_count": 7,
     "metadata": {},
     "output_type": "execute_result"
    }
   ],
   "source": [
    "from sklearn.preprocessing import LabelEncoder\n",
    "le = LabelEncoder()\n",
    "df_v1[\"StockCode\"] = le.fit_transform(df_v1[\"StockCode\"])\n",
    "df_v1[\"CustomerID\"] = le.fit_transform(df_v1[\"CustomerID\"])\n",
    "df_v1.head()"
   ]
  },
  {
   "cell_type": "markdown",
   "metadata": {},
   "source": [
    "Scale Data"
   ]
  },
  {
   "cell_type": "code",
   "execution_count": 8,
   "metadata": {},
   "outputs": [],
   "source": [
    "from sklearn.preprocessing import  StandardScaler\n",
    "sc = StandardScaler()\n",
    "X = sc.fit_transform(df_v1)"
   ]
  },
  {
   "cell_type": "markdown",
   "metadata": {},
   "source": [
    "using Elbow Method to define no of Clusters"
   ]
  },
  {
   "cell_type": "code",
   "execution_count": 9,
   "metadata": {},
   "outputs": [
    {
     "data": {
      "image/png": "[encoded data removed]",
      "text/plain": [
       "<Figure size 640x480 with 1 Axes>"
      ]
     },
     "metadata": {},
     "output_type": "display_data"
    }
   ],
   "source": [
    "from sklearn.cluster import KMeans\n",
    "wcss = []\n",
    "for i in range(1, 20):\n",
    "    kmeans = KMeans(n_clusters = i , init = 'k-means++' , random_state = 42)\n",
    "    kmeans.fit(X)\n",
    "    wcss.append(kmeans.inertia_)\n",
    "plt.plot(range(1, 20), wcss,marker='o')\n",
    "plt.title('The Elbow Method')\n",
    "plt.xlabel('Number of clusters')\n",
    "plt.ylabel('WCSS')\n",
    "plt.show()\n"
   ]
  },
  {
   "cell_type": "markdown",
   "metadata": {},
   "source": [
    "Build the model using 5 Clusters"
   ]
  },
  {
   "cell_type": "code",
   "execution_count": 10,
   "metadata": {},
   "outputs": [],
   "source": [
    "kmeans = KMeans(n_clusters = 5, init = 'k-means++', random_state = 42)\n",
    "Y = kmeans.fit_predict(X)"
   ]
  }
 ],
 "metadata": {
  "kernelspec": {
   "display_name": "Python 3",
   "language": "python",
   "name": "python3"
  },
  "language_info": {
   "codemirror_mode": {
    "name": "ipython",
    "version": 3
   },
   "file_extension": ".py",
   "mimetype": "text/x-python",
   "name": "python",
   "nbconvert_exporter": "python",
   "pygments_lexer": "ipython3",
   "version": "3.11.7"
  }
 },
 "nbformat": 4,
 "nbformat_minor": 2
}
